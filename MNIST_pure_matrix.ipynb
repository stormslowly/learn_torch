{
 "cells": [
  {
   "cell_type": "markdown",
   "metadata": {
    "slideshow": {
     "slide_type": "slide"
    }
   },
   "source": [
    "# 数据来源\n",
    "ref <https://github.com/fchollet/keras/blob/master/keras/datasets/mnist.py>\n",
    "```\n",
    "    f = np.load(path)\n",
    "    x_train = f['x_train']\n",
    "    y_train = f['y_train']\n",
    "    x_test = f['x_test']\n",
    "    y_test = f['y_test']\n",
    "    f.close()\n",
    "```"
   ]
  },
  {
   "cell_type": "code",
   "execution_count": 2,
   "metadata": {},
   "outputs": [
    {
     "name": "stdout",
     "output_type": "stream",
     "text": [
      "[0 0 0 0 0 0 0 0 0 0 0 0 0 0 0 0 0 0 0 0 0 0 0 0 0 0 0 0]\n"
     ]
    }
   ],
   "source": [
    "import numpy as np\n",
    "\n",
    "f = np.load('./mnist.npz')\n",
    "x_train = f['x_train']\n",
    "y_train = f['y_train']\n",
    "x_test = f['x_test']\n",
    "y_test = f['y_test']\n",
    "\n",
    "print(x_train[0][0])\n"
   ]
  },
  {
   "cell_type": "code",
   "execution_count": 4,
   "metadata": {},
   "outputs": [
    {
     "name": "stdout",
     "output_type": "stream",
     "text": [
      "7 (28, 28)\n",
      "784\n"
     ]
    },
    {
     "data": {
      "image/png": "[encoded data removed]",
      "text/plain": [
       "<matplotlib.figure.Figure at 0x10cae1198>"
      ]
     },
     "metadata": {},
     "output_type": "display_data"
    }
   ],
   "source": [
    "%matplotlib inline\n",
    "\n",
    "import matplotlib.pyplot as plot\n",
    "\n",
    "SAMPLE_INDEX= 42\n",
    "\n",
    "sample_matrix = x_train[SAMPLE_INDEX]\n",
    "\n",
    "plot.matshow(x_train[SAMPLE_INDEX])\n",
    "print( y_train[SAMPLE_INDEX], sample_matrix.shape)\n",
    "\n",
    "print( len( sample_matrix.flatten()))\n"
   ]
  },
  {
   "cell_type": "code",
   "execution_count": 8,
   "metadata": {
    "scrolled": true
   },
   "outputs": [
    {
     "name": "stdout",
     "output_type": "stream",
     "text": [
      "Variable containing:\n",
      " 0.4485\n",
      "[torch.FloatTensor of size 1]\n",
      "\n",
      "5 Variable containing:\n",
      "    0     1     0     0     0     0     0     0     0     0\n",
      "[torch.ByteTensor of size 1x10]\n",
      "\n",
      "0 Variable containing:\n",
      "    1     0     0     0     0     0     0     0     0     0\n",
      "[torch.ByteTensor of size 1x10]\n",
      "\n",
      "4 Variable containing:\n",
      "    0     0     0     0     1     0     0     0     0     0\n",
      "[torch.ByteTensor of size 1x10]\n",
      "\n"
     ]
    }
   ],
   "source": [
    "# define the simpleset network\n",
    "\n",
    "import torch\n",
    "from torch.autograd import Variable\n",
    "\n",
    "\n",
    "row = sample_matrix[0]\n",
    "\n",
    "tx  = torch.Tensor([[1 if x>0 else 0 for x in sample_matrix.flatten()]])\n",
    "\n",
    "def mnist2Var(sample):\n",
    "    return Variable(torch.Tensor([[1 if x>0 else 0 for x in sample.flatten()]]),requires_grad=False)\n",
    "\n",
    "def mnist2List(sample):\n",
    "    return [1 if x>0 else 0 for x in sample.flatten()]\n",
    "\n",
    "\n",
    "def toExpectVar(num):\n",
    "    v = np.zeros([1,10])\n",
    "    v[0][num]= 1\n",
    "    return v\n",
    "\n",
    "\n"
   ]
  },
  {
   "cell_type": "code",
   "execution_count": 11,
   "metadata": {},
   "outputs": [
    {
     "name": "stdout",
     "output_type": "stream",
     "text": [
      "Variable containing:\n",
      " 0.4500\n",
      "[torch.FloatTensor of size 1]\n",
      "\n",
      "5 Variable containing:\n",
      "    0     0     0     1     0     1     0     0     0     0\n",
      "[torch.ByteTensor of size 1x10]\n",
      "\n",
      "0 Variable containing:\n",
      "    1     0     0     0     0     0     0     0     0     0\n",
      "[torch.ByteTensor of size 1x10]\n",
      "\n",
      "4 Variable containing:\n",
      "    0     0     0     0     1     0     0     0     0     0\n",
      "[torch.ByteTensor of size 1x10]\n",
      "\n"
     ]
    }
   ],
   "source": [
    "softmax = torch.nn.functional.softmax\n",
    "relu = torch.nn.functional.relu\n",
    "\n",
    "w = Variable(torch.ones(784,10),requires_grad=True)   #784 x 10\n",
    "b = Variable(torch.ones(1,10), requires_grad=True)\n",
    "\n",
    "\n",
    "def h(x):\n",
    "    return softmax( relu(x.mm(w) + b ))\n",
    "\n",
    "ctriter = torch.nn.MSELoss()\n",
    "\n",
    "\n",
    "batchSize=1\n",
    "\n",
    "for r in range(1):\n",
    "    for i in range(10):\n",
    "        subX =[ mnist2List(data) for data in x_train[i*batchSize:(1+i)*batchSize]]\n",
    "        \n",
    "        subX = Variable(torch.Tensor(subX),requires_grad=False)\n",
    "        subExpectY  = y_train[i*batchSize:(1+i)*batchSize]\n",
    "        \n",
    "\n",
    "        prey = h(subX)\n",
    "        y = Variable(torch.zeros(1,10))\n",
    "        subExpectY = [ toExpectVar(y) for y in subExpectY]\n",
    "        subExpectY = Variable(torch.Tensor(subExpectY),requires_grad=True)\n",
    "        loss = 0.5*(prey - subExpectY).pow(2).sum()\n",
    "        \n",
    "        loss.backward()\n",
    "\n",
    "        w.data -= 0.000001*w.grad.data\n",
    "        b.data -= 0.000001*b.grad.data\n",
    "\n",
    "       \n",
    "        w.grad.data.zero_()\n",
    "        b.grad.data.zero_()\n",
    "\n",
    "\n",
    "print( loss)\n",
    "\n",
    "for i in range(3):\n",
    "    index = i\n",
    "    result =h(mnist2Var(x_train[index]))\n",
    "    print (y_train[index], result==torch.max(result.data))"
   ]
  }
 ],
 "metadata": {
  "kernelspec": {
   "display_name": "Python 2",
   "language": "python",
   "name": "python2"
  },
  "language_info": {
   "codemirror_mode": {
    "name": "ipython",
    "version": 3
   },
   "file_extension": ".py",
   "mimetype": "text/x-python",
   "name": "python",
   "nbconvert_exporter": "python",
   "pygments_lexer": "ipython3",
   "version": "3.6.0"
  }
 },
 "nbformat": 4,
 "nbformat_minor": 2
}
