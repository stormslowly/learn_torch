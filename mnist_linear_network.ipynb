{
 "cells": [
  {
   "cell_type": "code",
   "execution_count": 11,
   "metadata": {
    "collapsed": true
   },
   "outputs": [],
   "source": [
    "import torch\n",
    "import torch.nn as nn\n",
    "import torch.nn.functional as F\n",
    "import torch.optim as optim\n",
    "from torchvision import datasets, transforms\n",
    "from torch.autograd import Variable\n",
    "\n",
    "train_loader = torch.utils.data.DataLoader(\n",
    "    datasets.MNIST('./', train=True, download=True,\n",
    "                   transform=transforms.Compose([\n",
    "                       transforms.ToTensor(),\n",
    "                       transforms.Normalize((0.1307,), (0.3081,))\n",
    "                   ])),\n",
    "    batch_size=100, shuffle=True)\n",
    "test_loader = torch.utils.data.DataLoader(\n",
    "    datasets.MNIST('./', train=False, transform=transforms.Compose([\n",
    "                       transforms.ToTensor(),\n",
    "                       transforms.Normalize((0.1307,), (0.3081,))\n",
    "                   ])),\n",
    "    100, shuffle=True)\n",
    "\n",
    "\n",
    "log_interval  = 100\n",
    "\n"
   ]
  },
  {
   "cell_type": "code",
   "execution_count": 12,
   "metadata": {
    "collapsed": true
   },
   "outputs": [],
   "source": [
    "class Net(nn.Module):\n",
    "    def __init__(self):\n",
    "        super(Net, self).__init__()\n",
    "        self.fc1 = nn.Linear(784, 10)\n",
    "\n",
    "    def forward(self, x):\n",
    "        print (x.size())\n",
    "        x = x.view(-1,784)\n",
    "        print(x.size())\n",
    "        x = F.relu(self.fc1(x))\n",
    "        print (x.size())\n",
    "        x= F.softmax(x)\n",
    "        print(x.size())\n",
    "        return x\n",
    "    \n",
    "model = Net()\n",
    "\n",
    "optimizer = optim.SGD(model.parameters(), lr=0.0001)"
   ]
  },
  {
   "cell_type": "code",
   "execution_count": 14,
   "metadata": {
    "scrolled": true
   },
   "outputs": [
    {
     "name": "stdout",
     "output_type": "stream",
     "text": [
      "torch.Size([100, 1, 28, 28])\n",
      "torch.Size([100, 1, 28, 28])\n",
      "torch.Size([100, 784])\n",
      "torch.Size([100, 10])\n",
      "torch.Size([100, 10])\n",
      "Variable containing:\n",
      " 0.0741  0.1179  0.0741  0.0819  0.1186  0.0741  0.0913  0.0741  0.0958  0.1981\n",
      " 0.0771  0.0956  0.0663  0.0663  0.0694  0.0841  0.2188  0.0663  0.1053  0.1508\n",
      " 0.0855  0.1495  0.0855  0.0855  0.1175  0.0928  0.1273  0.0855  0.0855  0.0855\n",
      " 0.0681  0.2263  0.0681  0.0681  0.0696  0.1161  0.1397  0.0681  0.1079  0.0681\n",
      " 0.1665  0.0695  0.0933  0.0695  0.1598  0.1029  0.1047  0.0695  0.0695  0.0946\n",
      " 0.1548  0.1283  0.0629  0.0629  0.1173  0.0629  0.0914  0.0629  0.0736  0.1829\n",
      " 0.1028  0.1250  0.0735  0.1031  0.1164  0.0550  0.0586  0.0550  0.2372  0.0733\n",
      " 0.0807  0.1269  0.1125  0.1310  0.1160  0.0823  0.1075  0.0807  0.0807  0.0817\n",
      " 0.0758  0.1450  0.0758  0.0758  0.0948  0.1307  0.1071  0.0887  0.1306  0.0758\n",
      " 0.0639  0.1733  0.0639  0.0639  0.0853  0.0639  0.1717  0.0639  0.1740  0.0763\n",
      "[torch.FloatTensor of size 10x10]\n",
      "\n",
      "Train Epoch: 1 [0/60000 (0%)]\tLoss: -0.110257\n"
     ]
    }
   ],
   "source": [
    "model = Net()\n",
    "\n",
    "optimizer = optim.SGD(model.parameters(), lr=0.0001)\n",
    "\n",
    "\n",
    "def train(epoch):\n",
    "    model.train()\n",
    "    for batch_idx, (data, target) in enumerate(train_loader):\n",
    "        data, target = Variable(data), Variable(target)\n",
    "        print(data.size())\n",
    "        optimizer.zero_grad()\n",
    "        output = model(data)\n",
    "        print(output[0:10,:])\n",
    "        loss = F.nll_loss(output, target)\n",
    "        loss.backward()\n",
    "        optimizer.step()\n",
    "        \n",
    "        if batch_idx % log_interval == 0:\n",
    "            print('Train Epoch: {} [{}/{} ({:.0f}%)]\\tLoss: {:.6f}'.format(\n",
    "                epoch, batch_idx * len(data), len(train_loader.dataset),\n",
    "                100. * batch_idx / len(train_loader), loss.data[0]))\n",
    "\n",
    "        return  \n",
    "\n",
    "def test(epoch):\n",
    "    model.eval()\n",
    "    test_loss = 0\n",
    "    correct = 0\n",
    "    for data, target in test_loader:\n",
    "        data, target = Variable(data, volatile=True), Variable(target)\n",
    "        output = model(data)\n",
    "        test_loss += F.nll_loss(output, target).data[0]\n",
    "        pred = output.data.max(1)[1] # get the index of the max log-probability\n",
    "        correct += pred.eq(target.data).cpu().sum()\n",
    "\n",
    "    test_loss = test_loss\n",
    "    test_loss /= len(test_loader) # loss function already averages over batch size\n",
    "    print('\\nTest set: Average loss: {:.4f}, Accuracy: {}/{} ({:.0f}%)\\n'.format(\n",
    "        test_loss, correct, len(test_loader.dataset),\n",
    "        100. * correct / len(test_loader.dataset)))\n",
    "\n",
    "  \n",
    "train(1)\n",
    "\n",
    "# for epoch in range(1, 100):\n",
    "#     train(epoch)\n",
    "#     test(epoch)\n",
    "#     torch.save(model,'./mnist.model')"
   ]
  }
 ],
 "metadata": {
  "kernelspec": {
   "display_name": "Python 2",
   "language": "python",
   "name": "python2"
  },
  "language_info": {
   "codemirror_mode": {
    "name": "ipython",
    "version": 3
   },
   "file_extension": ".py",
   "mimetype": "text/x-python",
   "name": "python",
   "nbconvert_exporter": "python",
   "pygments_lexer": "ipython3",
   "version": "3.6.0"
  }
 },
 "nbformat": 4,
 "nbformat_minor": 2
}
