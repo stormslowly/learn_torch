{
 "cells": [
  {
   "cell_type": "code",
   "execution_count": 11,
   "metadata": {},
   "outputs": [
    {
     "name": "stdout",
     "output_type": "stream",
     "text": [
      "\n",
      " 0.3892  0.5615  0.3092\n",
      " 0.7121  0.6124  0.7264\n",
      " 0.6221  0.3111  0.5521\n",
      "[torch.FloatTensor of size 3x3]\n",
      "\n",
      "\n",
      " 0.3892  0.5615  0.3092\n",
      " 0.7121  0.6124  0.7264\n",
      " 0.6221  0.3111  0.5521\n",
      "[torch.FloatTensor of size 3x3]\n",
      "\n"
     ]
    }
   ],
   "source": [
    "import torch\n",
    "randTensor = torch.rand(3,3)\n",
    "print randTensor\n",
    "rand = torch.ones(3,3)\n",
    "\n",
    "print randTensor*rand\n"
   ]
  },
  {
   "cell_type": "code",
   "execution_count": 25,
   "metadata": {},
   "outputs": [
    {
     "name": "stdout",
     "output_type": "stream",
     "text": [
      "Variable containing:\n",
      " 42  42  42\n",
      " 42  42  42\n",
      " 42  42  42\n",
      "[torch.FloatTensor of size 3x3]\n",
      "\n",
      "None <torch.autograd._functions.basic_ops.AddConstant object at 0x10e0f3a48>\n",
      "Variable containing:\n",
      " 0.1111  0.1111  0.1111\n",
      " 0.1111  0.1111  0.1111\n",
      " 0.1111  0.1111  0.1111\n",
      "[torch.FloatTensor of size 3x3]\n",
      "\n"
     ]
    }
   ],
   "source": [
    "import torch\n",
    "from torch.autograd import Variable\n",
    "\n",
    "ones = Variable(torch.ones(3,3),requires_grad=True)\n",
    "\n",
    "y = ones + 41\n",
    "print y\n",
    "\n",
    "print ones.creator , y.creator\n",
    "\n",
    "out =  y.mean()\n",
    "\n",
    "out.backward()\n",
    "\n",
    "print ones.grad"
   ]
  }
 ],
 "metadata": {
  "kernelspec": {
   "display_name": "Python 2",
   "language": "python",
   "name": "python2"
  },
  "language_info": {
   "codemirror_mode": {
    "name": "ipython",
    "version": 3
   },
   "file_extension": ".py",
   "mimetype": "text/x-python",
   "name": "python",
   "nbconvert_exporter": "python",
   "pygments_lexer": "ipython3",
   "version": "3.6.0"
  }
 },
 "nbformat": 4,
 "nbformat_minor": 2
}
