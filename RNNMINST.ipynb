{
 "cells": [
  {
   "cell_type": "code",
   "execution_count": 1,
   "metadata": {
    "collapsed": true
   },
   "outputs": [],
   "source": [
    "import torch\n",
    "import torch.nn as nn\n",
    "import torch.nn.functional as F\n",
    "import torch.optim as optim\n",
    "from torchvision import datasets, transforms\n",
    "from torch.autograd import Variable\n"
   ]
  },
  {
   "cell_type": "code",
   "execution_count": 2,
   "metadata": {
    "collapsed": true
   },
   "outputs": [],
   "source": [
    "EPOCH = 1\n",
    "BATCH_SIZE = 100\n",
    "TIME_STEP= 28\n",
    "INPUT_SIZE=28\n",
    "LR = 0.01\n",
    "\n",
    "train_loader = torch.utils.data.DataLoader(\n",
    "    datasets.MNIST('./', train=True, download=True,\n",
    "                   transform=transforms.Compose([\n",
    "                       transforms.ToTensor(),\n",
    "                       transforms.Normalize((0.1307,), (0.3081,))\n",
    "                   ])),\n",
    "    batch_size=BATCH_SIZE, shuffle=True)\n",
    "\n",
    "test_loader = torch.utils.data.DataLoader(\n",
    "    datasets.MNIST('./', train=False, transform=transforms.Compose([\n",
    "                       transforms.ToTensor(),\n",
    "                       transforms.Normalize((0.1307,), (0.3081,))\n",
    "                   ])),\n",
    "    100, shuffle=True)\n"
   ]
  },
  {
   "cell_type": "code",
   "execution_count": 3,
   "metadata": {
    "collapsed": true
   },
   "outputs": [],
   "source": [
    "\n",
    "class RNNMIST(nn.Module):\n",
    "    def __init__(self):\n",
    "        super(RNNMIST,self).__init__()\n",
    "        \n",
    "        self.rnn = nn.LSTM(\n",
    "            input_size=INPUT_SIZE,\n",
    "            hidden_size = 64,\n",
    "            num_layers = 1,\n",
    "            batch_first= True\n",
    "        )\n",
    "        \n",
    "        self.fc = nn.Linear(64,10)\n",
    "        \n",
    "        self.softMax = nn.Softmax()\n",
    "        \n",
    "    \n",
    "    def forward(self,samples):\n",
    "        rnn_out, (h_n,h_c ) = self.rnn(samples, None)\n",
    "        tofc = rnn_out[:,-1,:]\n",
    "        return self.softMax(self.fc(tofc))\n",
    "  "
   ]
  },
  {
   "cell_type": "code",
   "execution_count": 8,
   "metadata": {},
   "outputs": [
    {
     "name": "stdout",
     "output_type": "stream",
     "text": [
      "Train Epoch: 1 [0/60000 (0%)]\tLoss: 1.461342\n",
      "\n",
      "Test set: Average loss: 1.4797, Accuracy: 9818/10000 (98%)\n",
      "\n",
      "training end\n"
     ]
    }
   ],
   "source": [
    "#stat to train the rnn\n",
    "rnn = RNNMIST()\n",
    "loss_func = nn.CrossEntropyLoss()\n",
    "optimizer = optim.Adagrad(rnn.parameters(),lr=0.001)\n",
    "\n",
    "log_interval = 1000\n",
    "\n",
    "\n",
    "def train(epoch):\n",
    "    for batch_idx, (data, target) in enumerate(train_loader):\n",
    "        data, target = Variable(data.view(-1,28,28)), Variable(target)\n",
    " \n",
    "        output = rnn(data)\n",
    "        loss = loss_func(output,target)\n",
    "        \n",
    "        optimizer.zero_grad()\n",
    "        loss.backward()\n",
    "        \n",
    "        optimizer.step()\n",
    "        \n",
    "        if batch_idx % log_interval == 0:\n",
    "            print('Train Epoch: {} [{}/{} ({:.0f}%)]\\tLoss: {:.6f}'.format(\n",
    "                epoch, batch_idx * len(data), len(train_loader.dataset),\n",
    "                100. * batch_idx * len(data) / len(train_loader.dataset), loss.data[0]))\n",
    "         \n",
    "def test(epoch):\n",
    "\n",
    "    test_loss = 0\n",
    "    correct = 0\n",
    "    for data, target in test_loader:\n",
    "        data, target = Variable(data.view(-1,28,28), volatile=True), Variable(target)\n",
    "        output = rnn(data)\n",
    "        test_loss += loss_func(output, target).data[0]\n",
    "        pred = output.data.max(1)[1] # get the index of the max log-probability\n",
    "        correct += pred.eq(target.data).cpu().sum()\n",
    "\n",
    "    test_loss = test_loss\n",
    "    test_loss /= len(test_loader) # loss function already averages over batch size\n",
    "    print('\\nTest set: Average loss: {:.4f}, Accuracy: {}/{} ({:.0f}%)\\n'.format(\n",
    "        test_loss, correct, len(test_loader.dataset),\n",
    "        100. * correct / len(test_loader.dataset)))\n",
    "        \n",
    "\n",
    "\n",
    "        \n",
    "rnn.load_state_dict(torch.load('./rnn.mnist'))\n",
    "\n",
    "\n",
    "train(1)\n",
    "test(1)\n",
    "\n",
    "# for i in range(20):\n",
    "#     train(i)\n",
    "#     test(i)\n",
    "    \n",
    "    \n",
    "torch.save(rnn.state_dict(),'./rnn.mnist')\n",
    "print('training end')"
   ]
  }
 ],
 "metadata": {
  "kernelspec": {
   "display_name": "Python 2",
   "language": "python",
   "name": "python2"
  },
  "language_info": {
   "codemirror_mode": {
    "name": "ipython",
    "version": 3
   },
   "file_extension": ".py",
   "mimetype": "text/x-python",
   "name": "python",
   "nbconvert_exporter": "python",
   "pygments_lexer": "ipython3",
   "version": "3.6.0"
  }
 },
 "nbformat": 4,
 "nbformat_minor": 2
}
